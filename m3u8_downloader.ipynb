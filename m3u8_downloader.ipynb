{
  "nbformat": 4,
  "nbformat_minor": 0,
  "metadata": {
    "colab": {
      "name": "m3u8 downloader.ipynb",
      "provenance": [],
      "mount_file_id": "1xGAiGOUpQZDm9KIvMXrYrU8hyXBMxscm",
      "authorship_tag": "ABX9TyNHUom0nbd4OQyzSzIhUuED",
      "include_colab_link": true
    },
    "kernelspec": {
      "name": "python3",
      "display_name": "Python 3"
    },
    "language_info": {
      "name": "python"
    }
  },
  "cells": [
    {
      "cell_type": "markdown",
      "metadata": {
        "id": "view-in-github",
        "colab_type": "text"
      },
      "source": [
        "<a href=\"https://colab.research.google.com/github/jakiyaa/m3u8-downloader/blob/main/m3u8_downloader.ipynb\" target=\"_parent\"><img src=\"https://colab.research.google.com/assets/colab-badge.svg\" alt=\"Open In Colab\"/></a>"
      ]
    },
    {
      "cell_type": "markdown",
      "metadata": {
        "id": "MoLddhWRxwdv"
      },
      "source": [
        "<a href=\"https://github.com/jakiyaa/m3u8-downloader\">\n",
        "<img src=\"https://github.com/fluidicon.png\" height=100px, align=\"left\"></a>\n",
        "\n",
        "\n",
        "\n",
        "<center><h1><b>M3u8 online Downloader </h1></b></center>"
      ]
    },
    {
      "cell_type": "code",
      "metadata": {
        "cellView": "form",
        "id": "H0qP3yiDrMD8"
      },
      "source": [
        "#@title ← Run <Center>Mount Google Drive </Center>\n",
        "#@markdown <Center> <img src=\"https://kstatic.googleusercontent.com/files/e20dbc1db7b6eab22fb2d07df8043f8a74b301dbb8c176e6a1992b2dc229c5ae94b5c260cf549c41712fa40b7e639166c6a8461303a27c2a3b9c55b8ca155ec3\" class=\"icon\" alt=\"Icon\">\n",
        "\n",
        "from google.colab import drive\n",
        "drive.mount('/content/drive')"
      ],
      "execution_count": null,
      "outputs": []
    },
    {
      "cell_type": "code",
      "metadata": {
        "id": "9t3VWUOoDZ1I"
      },
      "source": [
        "#@title ← Run <center> </font> <font color='red'> Paste m3u8 link <img src='https://play-lh.googleusercontent.com/vi_F_8raK3dL9D32R1VJRmWv18VKvc3niKDOE5z6yQsHOyzH0FQ1vq91eeakoEIFuxH9' height=\"40\" /> </center> { display-mode: \"form\" }\n",
        "import os\n",
        "M3u8_link = \"\" #@param {type:\"string\"}\n",
        "Download_location = \"/content/drive/MyDrive/myvideo.mp4\" #@param {type:\"string\"}\n",
        "\n",
        "\n",
        "\n",
        "!sudo apt install -y ffmpeg\n",
        "!pip install --user m3u8downloader\n",
        "\n",
        "!~/.local/bin/downloadm3u8 -o \"$Download_location\" \"$M3u8_link\"\n",
        "\n"
      ],
      "execution_count": null,
      "outputs": []
    }
  ]
}