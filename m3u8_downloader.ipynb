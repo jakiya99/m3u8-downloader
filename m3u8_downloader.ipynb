{
  "nbformat": 4,
  "nbformat_minor": 0,
  "metadata": {
    "colab": {
      "name": "m3u8 downloader.ipynb",
      "provenance": [],
      "mount_file_id": "1xGAiGOUpQZDm9KIvMXrYrU8hyXBMxscm",
      "authorship_tag": "ABX9TyMqloybWPifEpI1YRbvni8O",
      "include_colab_link": true
    },
    "kernelspec": {
      "name": "python3",
      "display_name": "Python 3"
    },
    "language_info": {
      "name": "python"
    }
  },
  "cells": [
    {
      "cell_type": "markdown",
      "metadata": {
        "id": "view-in-github",
        "colab_type": "text"
      },
      "source": [
        "<a href=\"https://colab.research.google.com/github/jakiya99/m3u8-downloader/blob/main/m3u8_downloader.ipynb\" target=\"_parent\"><img src=\"https://colab.research.google.com/assets/colab-badge.svg\" alt=\"Open In Colab\"/></a>"
      ]
    },
    {
      "cell_type": "markdown",
      "metadata": {
        "id": "pC4GHGNJNcRk"
      },
      "source": [
        "\n",
        "# ⎝乡  M3u8 <font color='greenr'>Downloader </font> /  <font color='lightblue'>M3u8 to </font> <font color='yellow'>mp4 <font color='lightblue'>Conveter </font><img src='https://play-lh.googleusercontent.com/vi_F_8raK3dL9D32R1VJRmWv18VKvc3niKDOE5z6yQsHOyzH0FQ1vq91eeakoEIFuxH9' height=\"90\" />  \n",
        "\n"
      ]
    },
    {
      "cell_type": "markdown",
      "metadata": {
        "id": "CBXUgwG_O63N"
      },
      "source": [
        "# BY'-  <font color='red'> ツ                                                         jคK¡ץA   ⎝⎝乡 </font>"
      ]
    },
    {
      "cell_type": "markdown",
      "metadata": {
        "id": "YbVm73unLWrd"
      },
      "source": [
        "# <font color='lightblue'>Install Dependencies <img src='https://img2.apksum.com/d7/yerli.uygulama.m3u8player/v.1.7.5/icon.png' height=\"90\" />"
      ]
    },
    {
      "cell_type": "code",
      "metadata": {
        "id": "9t3VWUOoDZ1I"
      },
      "source": [
        "!sudo apt install -y ffmpeg\n",
        "!pip install --user m3u8downloader"
      ],
      "execution_count": null,
      "outputs": []
    },
    {
      "cell_type": "markdown",
      "metadata": {
        "id": "qpZ3mHbLNAJM"
      },
      "source": [
        "# Mount <font color='yellow'> Google drive <img src='https://www.clipartmax.com/png/full/220-2204620_%C2%A0-google-docs-sheets-and-slides.png' height=\"90\" />"
      ]
    },
    {
      "cell_type": "code",
      "metadata": {
        "id": "sPOAJ9z6M8v6"
      },
      "source": [
        "from google.colab import drive\n",
        "drive.mount('/content/drive')"
      ],
      "execution_count": null,
      "outputs": []
    },
    {
      "cell_type": "markdown",
      "metadata": {
        "id": "ZEOSMJaTKp4t"
      },
      "source": [
        "# Select <font color='yellow'> Download path </font> and <font color='red'> Paste m3u8 link <img src='https://play-lh.googleusercontent.com/vi_F_8raK3dL9D32R1VJRmWv18VKvc3niKDOE5z6yQsHOyzH0FQ1vq91eeakoEIFuxH9' height=\"90\" />  "
      ]
    },
    {
      "cell_type": "code",
      "metadata": {
        "id": "cQcyDgZ7Fx8K"
      },
      "source": [
        "!~/.local/bin/downloadm3u8 -o \"/download/path/file.mp4\" \"m3u8 link\"\n",
        "\n",
        "#example= !~/.local/bin/downloadm3u8 -o /content/drive/Shareddrives/pamkk.mp4 https://pakaya.lk/playlist.m3u8"
      ],
      "execution_count": null,
      "outputs": []
    }
  ]
}